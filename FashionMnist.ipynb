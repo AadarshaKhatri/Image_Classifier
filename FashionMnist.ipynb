{
  "nbformat": 4,
  "nbformat_minor": 0,
  "metadata": {
    "colab": {
      "provenance": [],
      "authorship_tag": "ABX9TyPXG7HSk+NETSsHkkkS3eAg"
    },
    "kernelspec": {
      "name": "python3",
      "display_name": "Python 3"
    },
    "language_info": {
      "name": "python"
    },
    "widgets": {
      "application/vnd.jupyter.widget-state+json": {
        "e3a3ef614c274a688ecc16f6e511aeb0": {
          "model_module": "@jupyter-widgets/controls",
          "model_name": "HBoxModel",
          "model_module_version": "1.5.0",
          "state": {
            "_dom_classes": [],
            "_model_module": "@jupyter-widgets/controls",
            "_model_module_version": "1.5.0",
            "_model_name": "HBoxModel",
            "_view_count": null,
            "_view_module": "@jupyter-widgets/controls",
            "_view_module_version": "1.5.0",
            "_view_name": "HBoxView",
            "box_style": "",
            "children": [
              "IPY_MODEL_ae3e471b98ab484bac344ffb455c70f9",
              "IPY_MODEL_5d41e7a58aea47e188458f0dc3c98138",
              "IPY_MODEL_39e81766a46c4999a1e0aa3d8a4ef434"
            ],
            "layout": "IPY_MODEL_e2685b15833f43bfad15ddc8d2c68692"
          }
        },
        "ae3e471b98ab484bac344ffb455c70f9": {
          "model_module": "@jupyter-widgets/controls",
          "model_name": "HTMLModel",
          "model_module_version": "1.5.0",
          "state": {
            "_dom_classes": [],
            "_model_module": "@jupyter-widgets/controls",
            "_model_module_version": "1.5.0",
            "_model_name": "HTMLModel",
            "_view_count": null,
            "_view_module": "@jupyter-widgets/controls",
            "_view_module_version": "1.5.0",
            "_view_name": "HTMLView",
            "description": "",
            "description_tooltip": null,
            "layout": "IPY_MODEL_848400129e234e978d038a04bdebd961",
            "placeholder": "​",
            "style": "IPY_MODEL_0f6a61823fde4f2495bbedb331128c5e",
            "value": "100%"
          }
        },
        "5d41e7a58aea47e188458f0dc3c98138": {
          "model_module": "@jupyter-widgets/controls",
          "model_name": "FloatProgressModel",
          "model_module_version": "1.5.0",
          "state": {
            "_dom_classes": [],
            "_model_module": "@jupyter-widgets/controls",
            "_model_module_version": "1.5.0",
            "_model_name": "FloatProgressModel",
            "_view_count": null,
            "_view_module": "@jupyter-widgets/controls",
            "_view_module_version": "1.5.0",
            "_view_name": "ProgressView",
            "bar_style": "success",
            "description": "",
            "description_tooltip": null,
            "layout": "IPY_MODEL_d1f717022fdc4daf83ee949792536297",
            "max": 3,
            "min": 0,
            "orientation": "horizontal",
            "style": "IPY_MODEL_dfae182271804cc2a3b0194becf03cec",
            "value": 3
          }
        },
        "39e81766a46c4999a1e0aa3d8a4ef434": {
          "model_module": "@jupyter-widgets/controls",
          "model_name": "HTMLModel",
          "model_module_version": "1.5.0",
          "state": {
            "_dom_classes": [],
            "_model_module": "@jupyter-widgets/controls",
            "_model_module_version": "1.5.0",
            "_model_name": "HTMLModel",
            "_view_count": null,
            "_view_module": "@jupyter-widgets/controls",
            "_view_module_version": "1.5.0",
            "_view_name": "HTMLView",
            "description": "",
            "description_tooltip": null,
            "layout": "IPY_MODEL_789f8ba882e2429a90a4d2bb812043c9",
            "placeholder": "​",
            "style": "IPY_MODEL_305f7e7f73464902bc1d33e95f690890",
            "value": " 3/3 [00:33&lt;00:00, 11.10s/it]"
          }
        },
        "e2685b15833f43bfad15ddc8d2c68692": {
          "model_module": "@jupyter-widgets/base",
          "model_name": "LayoutModel",
          "model_module_version": "1.2.0",
          "state": {
            "_model_module": "@jupyter-widgets/base",
            "_model_module_version": "1.2.0",
            "_model_name": "LayoutModel",
            "_view_count": null,
            "_view_module": "@jupyter-widgets/base",
            "_view_module_version": "1.2.0",
            "_view_name": "LayoutView",
            "align_content": null,
            "align_items": null,
            "align_self": null,
            "border": null,
            "bottom": null,
            "display": null,
            "flex": null,
            "flex_flow": null,
            "grid_area": null,
            "grid_auto_columns": null,
            "grid_auto_flow": null,
            "grid_auto_rows": null,
            "grid_column": null,
            "grid_gap": null,
            "grid_row": null,
            "grid_template_areas": null,
            "grid_template_columns": null,
            "grid_template_rows": null,
            "height": null,
            "justify_content": null,
            "justify_items": null,
            "left": null,
            "margin": null,
            "max_height": null,
            "max_width": null,
            "min_height": null,
            "min_width": null,
            "object_fit": null,
            "object_position": null,
            "order": null,
            "overflow": null,
            "overflow_x": null,
            "overflow_y": null,
            "padding": null,
            "right": null,
            "top": null,
            "visibility": null,
            "width": null
          }
        },
        "848400129e234e978d038a04bdebd961": {
          "model_module": "@jupyter-widgets/base",
          "model_name": "LayoutModel",
          "model_module_version": "1.2.0",
          "state": {
            "_model_module": "@jupyter-widgets/base",
            "_model_module_version": "1.2.0",
            "_model_name": "LayoutModel",
            "_view_count": null,
            "_view_module": "@jupyter-widgets/base",
            "_view_module_version": "1.2.0",
            "_view_name": "LayoutView",
            "align_content": null,
            "align_items": null,
            "align_self": null,
            "border": null,
            "bottom": null,
            "display": null,
            "flex": null,
            "flex_flow": null,
            "grid_area": null,
            "grid_auto_columns": null,
            "grid_auto_flow": null,
            "grid_auto_rows": null,
            "grid_column": null,
            "grid_gap": null,
            "grid_row": null,
            "grid_template_areas": null,
            "grid_template_columns": null,
            "grid_template_rows": null,
            "height": null,
            "justify_content": null,
            "justify_items": null,
            "left": null,
            "margin": null,
            "max_height": null,
            "max_width": null,
            "min_height": null,
            "min_width": null,
            "object_fit": null,
            "object_position": null,
            "order": null,
            "overflow": null,
            "overflow_x": null,
            "overflow_y": null,
            "padding": null,
            "right": null,
            "top": null,
            "visibility": null,
            "width": null
          }
        },
        "0f6a61823fde4f2495bbedb331128c5e": {
          "model_module": "@jupyter-widgets/controls",
          "model_name": "DescriptionStyleModel",
          "model_module_version": "1.5.0",
          "state": {
            "_model_module": "@jupyter-widgets/controls",
            "_model_module_version": "1.5.0",
            "_model_name": "DescriptionStyleModel",
            "_view_count": null,
            "_view_module": "@jupyter-widgets/base",
            "_view_module_version": "1.2.0",
            "_view_name": "StyleView",
            "description_width": ""
          }
        },
        "d1f717022fdc4daf83ee949792536297": {
          "model_module": "@jupyter-widgets/base",
          "model_name": "LayoutModel",
          "model_module_version": "1.2.0",
          "state": {
            "_model_module": "@jupyter-widgets/base",
            "_model_module_version": "1.2.0",
            "_model_name": "LayoutModel",
            "_view_count": null,
            "_view_module": "@jupyter-widgets/base",
            "_view_module_version": "1.2.0",
            "_view_name": "LayoutView",
            "align_content": null,
            "align_items": null,
            "align_self": null,
            "border": null,
            "bottom": null,
            "display": null,
            "flex": null,
            "flex_flow": null,
            "grid_area": null,
            "grid_auto_columns": null,
            "grid_auto_flow": null,
            "grid_auto_rows": null,
            "grid_column": null,
            "grid_gap": null,
            "grid_row": null,
            "grid_template_areas": null,
            "grid_template_columns": null,
            "grid_template_rows": null,
            "height": null,
            "justify_content": null,
            "justify_items": null,
            "left": null,
            "margin": null,
            "max_height": null,
            "max_width": null,
            "min_height": null,
            "min_width": null,
            "object_fit": null,
            "object_position": null,
            "order": null,
            "overflow": null,
            "overflow_x": null,
            "overflow_y": null,
            "padding": null,
            "right": null,
            "top": null,
            "visibility": null,
            "width": null
          }
        },
        "dfae182271804cc2a3b0194becf03cec": {
          "model_module": "@jupyter-widgets/controls",
          "model_name": "ProgressStyleModel",
          "model_module_version": "1.5.0",
          "state": {
            "_model_module": "@jupyter-widgets/controls",
            "_model_module_version": "1.5.0",
            "_model_name": "ProgressStyleModel",
            "_view_count": null,
            "_view_module": "@jupyter-widgets/base",
            "_view_module_version": "1.2.0",
            "_view_name": "StyleView",
            "bar_color": null,
            "description_width": ""
          }
        },
        "789f8ba882e2429a90a4d2bb812043c9": {
          "model_module": "@jupyter-widgets/base",
          "model_name": "LayoutModel",
          "model_module_version": "1.2.0",
          "state": {
            "_model_module": "@jupyter-widgets/base",
            "_model_module_version": "1.2.0",
            "_model_name": "LayoutModel",
            "_view_count": null,
            "_view_module": "@jupyter-widgets/base",
            "_view_module_version": "1.2.0",
            "_view_name": "LayoutView",
            "align_content": null,
            "align_items": null,
            "align_self": null,
            "border": null,
            "bottom": null,
            "display": null,
            "flex": null,
            "flex_flow": null,
            "grid_area": null,
            "grid_auto_columns": null,
            "grid_auto_flow": null,
            "grid_auto_rows": null,
            "grid_column": null,
            "grid_gap": null,
            "grid_row": null,
            "grid_template_areas": null,
            "grid_template_columns": null,
            "grid_template_rows": null,
            "height": null,
            "justify_content": null,
            "justify_items": null,
            "left": null,
            "margin": null,
            "max_height": null,
            "max_width": null,
            "min_height": null,
            "min_width": null,
            "object_fit": null,
            "object_position": null,
            "order": null,
            "overflow": null,
            "overflow_x": null,
            "overflow_y": null,
            "padding": null,
            "right": null,
            "top": null,
            "visibility": null,
            "width": null
          }
        },
        "305f7e7f73464902bc1d33e95f690890": {
          "model_module": "@jupyter-widgets/controls",
          "model_name": "DescriptionStyleModel",
          "model_module_version": "1.5.0",
          "state": {
            "_model_module": "@jupyter-widgets/controls",
            "_model_module_version": "1.5.0",
            "_model_name": "DescriptionStyleModel",
            "_view_count": null,
            "_view_module": "@jupyter-widgets/base",
            "_view_module_version": "1.2.0",
            "_view_name": "StyleView",
            "description_width": ""
          }
        }
      }
    }
  },
  "cells": [
    {
      "cell_type": "code",
      "execution_count": 2,
      "metadata": {
        "id": "JfRiUzH74FqR"
      },
      "outputs": [],
      "source": [
        "import torch\n",
        "import torch.nn as nn\n",
        "import torchvision\n",
        "from torchvision.transforms import ToTensor\n",
        "from torch.utils.data import DataLoader\n",
        "import matplotlib.pyplot as plt\n",
        "from torchvision import datasets,transforms"
      ]
    },
    {
      "cell_type": "code",
      "source": [
        "image_to_number = transforms.Compose([\n",
        "    transforms.ToTensor(),\n",
        "])"
      ],
      "metadata": {
        "id": "vkPS69QjV36b"
      },
      "execution_count": 3,
      "outputs": []
    },
    {
      "cell_type": "code",
      "source": [
        "train_data = datasets.FashionMNIST(\n",
        "    root=\"fashion_mnist_data\", #where do we want the dataset, in what folder do we want our images\n",
        "    train=True, # do we want the trining data, if set FALSE then we want the take the test data\n",
        "    transform=image_to_number, # How do we want to transform the Features (like changing to number)\n",
        "    download=True, # do we want to download the data\n",
        "    target_transform=None #How do we want to transforms the Target (like Cat, Dog -> 0,1)\n",
        ")"
      ],
      "metadata": {
        "colab": {
          "base_uri": "https://localhost:8080/"
        },
        "id": "KjfgrSgPTYkl",
        "outputId": "b555b907-fc1c-4965-a779-d48099e02ee6"
      },
      "execution_count": 4,
      "outputs": [
        {
          "output_type": "stream",
          "name": "stderr",
          "text": [
            "100%|██████████| 26.4M/26.4M [00:00<00:00, 119MB/s]\n",
            "100%|██████████| 29.5k/29.5k [00:00<00:00, 4.27MB/s]\n",
            "100%|██████████| 4.42M/4.42M [00:00<00:00, 61.7MB/s]\n",
            "100%|██████████| 5.15k/5.15k [00:00<00:00, 13.3MB/s]\n"
          ]
        }
      ]
    },
    {
      "cell_type": "code",
      "source": [
        "test_data = datasets.FashionMNIST(\n",
        "    root=\"fashion_mnist_data\",\n",
        "    train=False,\n",
        "    transform=image_to_number,\n",
        "    download=True,\n",
        "    target_transform=None\n",
        ")"
      ],
      "metadata": {
        "id": "Pb2pDG7JU4kp"
      },
      "execution_count": 5,
      "outputs": []
    },
    {
      "cell_type": "code",
      "source": [
        "train_Loader = DataLoader(train_data,batch_size=32,shuffle=True)\n",
        "test_Loader = DataLoader(test_data,batch_size=32,shuffle=False)"
      ],
      "metadata": {
        "id": "ORfRRVw2iJ_v"
      },
      "execution_count": 6,
      "outputs": []
    },
    {
      "cell_type": "code",
      "source": [
        "len(train_data)"
      ],
      "metadata": {
        "colab": {
          "base_uri": "https://localhost:8080/"
        },
        "id": "gB8ltEo4ixK_",
        "outputId": "c6ba2702-6efc-4463-939c-5e36b5862da3"
      },
      "execution_count": 7,
      "outputs": [
        {
          "output_type": "execute_result",
          "data": {
            "text/plain": [
              "60000"
            ]
          },
          "metadata": {},
          "execution_count": 7
        }
      ]
    },
    {
      "cell_type": "code",
      "source": [
        "index = train_data.class_to_idx\n",
        "index"
      ],
      "metadata": {
        "colab": {
          "base_uri": "https://localhost:8080/"
        },
        "id": "xH6gCCmOlF2I",
        "outputId": "ccf261cd-6c91-45ff-84d7-c4a8abe07a23"
      },
      "execution_count": 8,
      "outputs": [
        {
          "output_type": "execute_result",
          "data": {
            "text/plain": [
              "{'T-shirt/top': 0,\n",
              " 'Trouser': 1,\n",
              " 'Pullover': 2,\n",
              " 'Dress': 3,\n",
              " 'Coat': 4,\n",
              " 'Sandal': 5,\n",
              " 'Shirt': 6,\n",
              " 'Sneaker': 7,\n",
              " 'Bag': 8,\n",
              " 'Ankle boot': 9}"
            ]
          },
          "metadata": {},
          "execution_count": 8
        }
      ]
    },
    {
      "cell_type": "code",
      "source": [
        "import matplotlib.pyplot as plt\n",
        "\n",
        "# Create reverse mapping: number → class name\n",
        "index = {v: k for k, v in train_data.class_to_idx.items()}\n",
        "\n",
        "fig, axs = plt.subplots(2, 5, figsize=(10, 5))\n",
        "\n",
        "for i in range(10):\n",
        "    image, label = train_data[i]\n",
        "\n",
        "    row = i // 5\n",
        "    col = i % 5\n",
        "\n",
        "    ax = axs[row][col]\n",
        "    ax.imshow(image.permute(1, 2, 0).numpy())  # Use permute for RGB image\n",
        "    ax.set_title(f\"Label: {index[label]}\")\n",
        "    ax.axis('off')  # Hide axes for clean look\n",
        "\n",
        "plt.tight_layout()\n",
        "plt.show()\n"
      ],
      "metadata": {
        "colab": {
          "base_uri": "https://localhost:8080/",
          "height": 473
        },
        "id": "dY-PzSTNi2-p",
        "outputId": "18db3bdf-b79c-498f-e41a-a7613a148cf8"
      },
      "execution_count": 9,
      "outputs": [
        {
          "output_type": "display_data",
          "data": {
            "text/plain": [
              "<Figure size 1000x500 with 10 Axes>"
            ],
            "image/png": "[encoded data removed]"
          },
          "metadata": {}
        }
      ]
    },
    {
      "cell_type": "code",
      "source": [
        "#Training Loop for the Neural Network\n",
        "\n"
      ],
      "metadata": {
        "id": "NRE8LnRlqg2a"
      },
      "execution_count": 10,
      "outputs": []
    },
    {
      "cell_type": "markdown",
      "source": [
        "Whenever we are trying to build a model its better to start with a baseline model and then we can imporve the model and imprve on it\n"
      ],
      "metadata": {
        "id": "4xTzA6G8PQhE"
      }
    },
    {
      "cell_type": "code",
      "source": [
        "class FashionMNIST_MODEL(nn.Module):\n",
        "\n",
        "  def __init__(self,\n",
        "               input_shape:int,\n",
        "               hidden:int,\n",
        "               output_shape:int):\n",
        "    super().__init__()\n",
        "    self.stack = nn.Sequential(\n",
        "        nn.Flatten(),\n",
        "        nn.Linear(in_features=input_shape,\n",
        "                  out_features=hidden),\n",
        "        nn.Linear(in_features=hidden,out_features=output_shape)\n",
        "\n",
        "    )\n",
        "\n",
        "  def forward(self,x):\n",
        "    return self.stack(x)\n"
      ],
      "metadata": {
        "id": "YWOybYDNRD1x"
      },
      "execution_count": 11,
      "outputs": []
    },
    {
      "cell_type": "code",
      "source": [
        "model = FashionMNIST_MODEL(input_shape=784,hidden=10,output_shape=len(index)).to(\"cpu\")\n",
        "\n",
        "model"
      ],
      "metadata": {
        "colab": {
          "base_uri": "https://localhost:8080/"
        },
        "id": "RIgkuLjtS0iM",
        "outputId": "7f0d1c3d-114a-4243-f405-56b0b8b9ad29"
      },
      "execution_count": 12,
      "outputs": [
        {
          "output_type": "execute_result",
          "data": {
            "text/plain": [
              "FashionMNIST_MODEL(\n",
              "  (stack): Sequential(\n",
              "    (0): Flatten(start_dim=1, end_dim=-1)\n",
              "    (1): Linear(in_features=784, out_features=10, bias=True)\n",
              "    (2): Linear(in_features=10, out_features=10, bias=True)\n",
              "  )\n",
              ")"
            ]
          },
          "metadata": {},
          "execution_count": 12
        }
      ]
    },
    {
      "cell_type": "code",
      "source": [
        "#Great when we we want to check the shapes\n",
        "\n",
        "dummy_x = torch.rand([1,1,28,28])\n",
        "\n",
        "model.forward(dummy_x)"
      ],
      "metadata": {
        "colab": {
          "base_uri": "https://localhost:8080/"
        },
        "id": "EDozn0vxTEr_",
        "outputId": "29be1385-a5fb-4c01-f7f3-f58af48bcc1f"
      },
      "execution_count": 13,
      "outputs": [
        {
          "output_type": "execute_result",
          "data": {
            "text/plain": [
              "tensor([[ 0.2674, -0.2505, -0.4068, -0.2008, -0.2813,  0.3031,  0.0313, -0.0706,\n",
              "          0.2541,  0.4079]], grad_fn=<AddmmBackward0>)"
            ]
          },
          "metadata": {},
          "execution_count": 13
        }
      ]
    },
    {
      "cell_type": "code",
      "source": [
        "loss_function = nn.CrossEntropyLoss()\n",
        "optimizer = torch.optim.SGD(model.parameters(),lr=0.01,momentum=0.9 )"
      ],
      "metadata": {
        "id": "hh-_2aW4Ty-q"
      },
      "execution_count": 14,
      "outputs": []
    },
    {
      "cell_type": "code",
      "source": [
        "# A accuracu function\n",
        "\n",
        "def accuracy_function(y_true,y_pred):\n",
        "  correct = torch.eq(y_true,y_pred).sum().item()\n",
        "  acc = (correct/len(y_pred))*100\n",
        "  return acc"
      ],
      "metadata": {
        "id": "6Vgb_OLn6RVZ"
      },
      "execution_count": 15,
      "outputs": []
    },
    {
      "cell_type": "code",
      "source": [
        "# Machine Learning is expiremental where we always calculate\n",
        "# 1. Performance of the model\n",
        "# 2. How fast it runs\n",
        "\n"
      ],
      "metadata": {
        "id": "ZXGFPbHQ6lLs"
      },
      "execution_count": 16,
      "outputs": []
    },
    {
      "cell_type": "code",
      "source": [
        "from torch.utils.benchmark import Timer"
      ],
      "metadata": {
        "colab": {
          "base_uri": "https://localhost:8080/"
        },
        "id": "j0iUDveAp22W",
        "outputId": "21def193-316f-453f-bf9b-11a964296f0c"
      },
      "execution_count": 17,
      "outputs": [
        {
          "output_type": "stream",
          "name": "stderr",
          "text": [
            "No CUDA runtime is found, using CUDA_HOME='/usr/local/cuda'\n"
          ]
        }
      ]
    },
    {
      "cell_type": "code",
      "source": [
        "from timeit import default_timer as timer"
      ],
      "metadata": {
        "id": "iOycolWLqHIg"
      },
      "execution_count": 18,
      "outputs": []
    },
    {
      "cell_type": "code",
      "source": [
        "def timer_function(start:float,\n",
        "                   end:float,\n",
        "                   device : torch.device = None):\n",
        "  total_time = end - start\n",
        "  print(f\"Timer on {device}: {total_time:.3f} seconds \")"
      ],
      "metadata": {
        "id": "ws7wbZp9qNUz"
      },
      "execution_count": 19,
      "outputs": []
    },
    {
      "cell_type": "code",
      "source": [
        "start_time = timer()\n",
        "end_time = timer()\n",
        "\n",
        "timer_function(start=start_time,end=end_time)"
      ],
      "metadata": {
        "colab": {
          "base_uri": "https://localhost:8080/"
        },
        "id": "-HRnVbG3qatQ",
        "outputId": "44667ce5-bba7-46f0-e05e-0434ddeb34a6"
      },
      "execution_count": 20,
      "outputs": [
        {
          "output_type": "stream",
          "name": "stdout",
          "text": [
            "Timer on None: 0.000 seconds \n"
          ]
        }
      ]
    },
    {
      "cell_type": "code",
      "source": [],
      "metadata": {
        "id": "jKcj40eIr_td"
      },
      "execution_count": 20,
      "outputs": []
    },
    {
      "cell_type": "markdown",
      "source": [
        "### Steps in training the model\n",
        "\n",
        "1. Loop Through Epochs\n",
        "2. Loop Through training batches and calculate the train loss per batch\n",
        "3. Loop Thriogh testing batches, and calculate the test loss per batch\n",
        "4. Print\n",
        "5. Timer Function"
      ],
      "metadata": {
        "id": "4IDUGu3MuXTi"
      }
    },
    {
      "cell_type": "code",
      "source": [],
      "metadata": {
        "id": "hznvefbwvC5h"
      },
      "execution_count": 20,
      "outputs": []
    },
    {
      "cell_type": "code",
      "source": [
        "from tqdm.auto import tqdm\n",
        "\n",
        "epochs = 3\n",
        "torch.manual_seed(42)\n",
        "\n",
        "train_time_start_cpu = timer()\n",
        "\n",
        "for epoch in tqdm(range(epochs)):\n",
        "  print(f\"Epochs : {epoch+1}\")\n",
        "\n",
        "  train_loss = 0\n",
        "\n",
        "  #Train Loader\n",
        "  for i,data in enumerate(train_Loader):\n",
        "    features ,target = data\n",
        "    optimizer.zero_grad()\n",
        "    outputs = model(features)\n",
        "    loss = loss_function(outputs,target)\n",
        "    loss.backward()\n",
        "    optimizer.step()\n",
        "    train_loss += loss.item()\n",
        "\n",
        "\n",
        "\n",
        "\n",
        "\n",
        "  test_loss = 0\n",
        "  test_acc = 0\n",
        "\n",
        "\n",
        "  model.eval()\n",
        "\n",
        "  with torch.inference_mode():\n",
        "    for features,target in test_Loader:\n",
        "      outputs = model(features) # Forward Pass\n",
        "      test_loss += loss_function(outputs,target)\n",
        "      test_acc += accuracy_function(y_true=target, y_pred=outputs.argmax(dim=1))\n",
        "\n",
        "\n",
        "    train_loss /= len(train_Loader)\n",
        "    test_loss /= len(test_Loader)\n",
        "    test_acc /= len(test_Loader)\n",
        "  print(f\"rain Loss : {train_loss}  Test Loss :{test_loss} and Test Accuracy :{test_acc}\")\n",
        "\n",
        "train_time_end_cpu = timer()\n",
        "\n",
        "total_time = timer_function(start=train_time_start_cpu,end=train_time_end_cpu,device=str(next(model.parameters()).device))\n",
        "\n",
        "\n",
        "\n"
      ],
      "metadata": {
        "colab": {
          "base_uri": "https://localhost:8080/",
          "height": 170,
          "referenced_widgets": [
            "e3a3ef614c274a688ecc16f6e511aeb0",
            "ae3e471b98ab484bac344ffb455c70f9",
            "5d41e7a58aea47e188458f0dc3c98138",
            "39e81766a46c4999a1e0aa3d8a4ef434",
            "e2685b15833f43bfad15ddc8d2c68692",
            "848400129e234e978d038a04bdebd961",
            "0f6a61823fde4f2495bbedb331128c5e",
            "d1f717022fdc4daf83ee949792536297",
            "dfae182271804cc2a3b0194becf03cec",
            "789f8ba882e2429a90a4d2bb812043c9",
            "305f7e7f73464902bc1d33e95f690890"
          ]
        },
        "id": "60VZK50Pu3PI",
        "outputId": "74e0b4cc-ac3e-4d6d-d742-7de817cf3820"
      },
      "execution_count": 23,
      "outputs": [
        {
          "output_type": "display_data",
          "data": {
            "text/plain": [
              "  0%|          | 0/3 [00:00<?, ?it/s]"
            ],
            "application/vnd.jupyter.widget-view+json": {
              "version_major": 2,
              "version_minor": 0,
              "model_id": "e3a3ef614c274a688ecc16f6e511aeb0"
            }
          },
          "metadata": {}
        },
        {
          "output_type": "stream",
          "name": "stdout",
          "text": [
            "Epochs : 1\n",
            "rain Loss : 0.42981993946234387  Test Loss :0.4704672694206238 and Test Accuracy :83.77595846645367\n",
            "Epochs : 2\n",
            "rain Loss : 0.42585940897067387  Test Loss :0.46424031257629395 and Test Accuracy :83.40654952076677\n",
            "Epochs : 3\n",
            "rain Loss : 0.4203036442955335  Test Loss :0.47607022523880005 and Test Accuracy :83.14696485623003\n",
            "Timer on cpu: 33.195 seconds \n"
          ]
        }
      ]
    },
    {
      "cell_type": "code",
      "source": [
        "torch.manual_seed(42)\n",
        "\n",
        "def eval_model(model:torch.nn.Module,\n",
        "               data_loader: torch.utils.data.dataloader,\n",
        "               loss_function:torch.nn.Module,\n",
        "               accuracy_function):\n",
        "\n",
        "  model.eval()\n",
        "\n",
        "  total_loss,total_acc = 0.0,0.0\n",
        "  with torch.inference_mode():\n",
        "    for X,y in data_loader:\n",
        "\n",
        "      y_pred = model(X)\n",
        "      total_loss += loss_function(y_pred,y).item()\n",
        "      total_acc += accuracy_function(y_true=y , y_pred=y_pred.argmax(dim=1))\n",
        "\n",
        "  return {\n",
        "      \"model\":model.__class__.__name__,\n",
        "      \"loss\":total_loss / len(data_loader),\n",
        "      \"accuracy\":(total_acc/len(data_loader))\n",
        "  }"
      ],
      "metadata": {
        "id": "mP0whkwS6izP"
      },
      "execution_count": 52,
      "outputs": []
    },
    {
      "cell_type": "code",
      "source": [
        "results = eval_model(model=model,\n",
        "                     data_loader=test_Loader,\n",
        "                     loss_function=loss_function,\n",
        "                     accuracy_function=accuracy_function)"
      ],
      "metadata": {
        "id": "qtgoTvZCeNO6"
      },
      "execution_count": 53,
      "outputs": []
    },
    {
      "cell_type": "code",
      "source": [
        "print(results)"
      ],
      "metadata": {
        "colab": {
          "base_uri": "https://localhost:8080/"
        },
        "id": "Hz6_6aCpetA2",
        "outputId": "19f5aaa5-5e07-43b7-cdda-e61dc7f8e533"
      },
      "execution_count": 54,
      "outputs": [
        {
          "output_type": "stream",
          "name": "stdout",
          "text": [
            "{'model': 'FashionMNIST_MODEL', 'loss': 0.47607033652143355, 'accuracy': 83.14696485623003}\n"
          ]
        }
      ]
    },
    {
      "cell_type": "code",
      "source": [],
      "metadata": {
        "id": "V6OuRzbqgfs0"
      },
      "execution_count": null,
      "outputs": []
    }
  ]
}